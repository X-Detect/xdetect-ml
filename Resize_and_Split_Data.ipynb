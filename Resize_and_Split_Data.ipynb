{
  "cells": [
    {
      "cell_type": "markdown",
      "source": [
        "**MOUNT DRIVE**"
      ],
      "metadata": {
        "id": "QAv5-RRkJue6"
      }
    },
    {
      "cell_type": "code",
      "execution_count": null,
      "metadata": {
        "colab": {
          "base_uri": "https://localhost:8080/"
        },
        "id": "rgn61PTYlmip",
        "outputId": "a3d3fa65-9df4-4f51-9ff2-298eec221bbd"
      },
      "outputs": [
        {
          "output_type": "stream",
          "name": "stdout",
          "text": [
            "Drive already mounted at /content/drive; to attempt to forcibly remount, call drive.mount(\"/content/drive\", force_remount=True).\n",
            "GPU Available:  False\n"
          ]
        }
      ],
      "source": [
        "import tensorflow as tf\n",
        "from google.colab import drive\n",
        "drive.mount('/content/drive')\n",
        "print(\"GPU Available: \", tf.test.is_gpu_available())"
      ]
    },
    {
      "cell_type": "markdown",
      "source": [
        "*   CLAHE = /content/drive/MyDrive/Dataset224Clahe\n",
        "*   Tanpa CLAHE = /content/drive/MyDrive/Dataset224\n",
        "\n",
        "\n"
      ],
      "metadata": {
        "id": "dm0wnrANIUeU"
      }
    },
    {
      "cell_type": "markdown",
      "metadata": {
        "id": "etcOzeUK4KC6"
      },
      "source": [
        "#**CLAHE (MENINGKATKAN KONTRAS DATASET) DAN RESIZE 224x224**"
      ]
    },
    {
      "cell_type": "code",
      "execution_count": null,
      "metadata": {
        "cellView": "code",
        "id": "nrkTHN5IldHF"
      },
      "outputs": [],
      "source": [
        "import os\n",
        "import cv2\n",
        "\n",
        "input_folder = \"/content/drive/MyDrive/Dataset\"\n",
        "output_folder = \"/content/drive/MyDrive/Dataset224Clahe\"\n",
        "\n",
        "# Membuat folder output jika belum ada\n",
        "os.makedirs(output_folder, exist_ok=True)\n",
        "\n",
        "categories = [\"Normal\", \"Mass\", \"Nodule\", \"Pneumonia\", \"Tuberculosis\"]\n",
        "\n",
        "for category in categories:\n",
        "    category_input_folder = os.path.join(input_folder, category)\n",
        "    category_output_folder = os.path.join(output_folder, category)\n",
        "    os.makedirs(category_output_folder, exist_ok=True)\n",
        "\n",
        "    images = os.listdir(category_input_folder)\n",
        "\n",
        "    for image_name in images:\n",
        "        image_path = os.path.join(category_input_folder, image_name)\n",
        "        output_image_path = os.path.join(category_output_folder, image_name)\n",
        "\n",
        "        if os.path.isfile(image_path):\n",
        "            # Baca gambar\n",
        "            img = cv2.imread(image_path)\n",
        "\n",
        "            # Normalisasi ukuran menjadi 224x224\n",
        "            img = cv2.resize(img, (224, 224))\n",
        "\n",
        "            # Lakukan penghapusan noise atau pemrosesan lainnya\n",
        "            # Misalnya, menggunakan filter Gaussian untuk menghaluskan gambar\n",
        "            \n",
        "            # Gaussian\n",
        "            # img = cv2.GaussianBlur(img, (5, 5), 0)\n",
        "\n",
        "            # Ubah image ke grayscale\n",
        "            img_gray = cv2.cvtColor(img, cv2.COLOR_BGR2GRAY)\n",
        "            # Setting CLAHE\n",
        "            clahe = cv2.createCLAHE(clipLimit=2.0, tileGridSize=(8,8))\n",
        "            # Terapkan CLAHE pada gambar\n",
        "            img_clahe = clahe.apply(img_gray)\n",
        "\n",
        "            # Simpan gambar yang sudah dinormalisasi\n",
        "            cv2.imwrite(output_image_path, img_clahe)"
      ]
    },
    {
      "cell_type": "code",
      "execution_count": null,
      "metadata": {
        "colab": {
          "base_uri": "https://localhost:8080/"
        },
        "id": "KL-TzihPRsMG",
        "outputId": "e07d5b34-e3bc-46f2-a7c0-6655620288e6"
      },
      "outputs": [
        {
          "output_type": "stream",
          "name": "stdout",
          "text": [
            "Jumlah file pada folder Normal: 2000\n",
            "Jumlah file pada folder Mass: 2050\n",
            "Jumlah file pada folder Nodule: 2000\n",
            "Jumlah file pada folder Pneumonia: 2000\n",
            "Jumlah file pada folder Tuberculosis: 2000\n"
          ]
        }
      ],
      "source": [
        "import os\n",
        "\n",
        "output_folder = \"/content/drive/MyDrive/Dataset224Clahe\"\n",
        "\n",
        "categories = [\"Normal\", \"Mass\", \"Nodule\", \"Pneumonia\", \"Tuberculosis\"]\n",
        "\n",
        "for category in categories:\n",
        "    category_folder = os.path.join(output_folder, category)\n",
        "    file_count = len(os.listdir(category_folder))\n",
        "    print(f\"Jumlah file pada folder {category}: {file_count}\")"
      ]
    },
    {
      "cell_type": "markdown",
      "source": [
        "#**RESIZE 224x224 (TANPA CLAHE)**"
      ],
      "metadata": {
        "id": "RWVIe3JUZxmS"
      }
    },
    {
      "cell_type": "code",
      "source": [
        "import os\n",
        "import cv2\n",
        "\n",
        "input_folder = \"/content/drive/MyDrive/Dataset\"\n",
        "output_folder = \"/content/drive/MyDrive/Dataset224\"\n",
        "\n",
        "# Membuat folder output jika belum ada\n",
        "os.makedirs(output_folder, exist_ok=True)\n",
        "\n",
        "categories = [\"Normal\", \"Mass\", \"Nodule\", \"Pneumonia\", \"Tuberculosis\"]\n",
        "\n",
        "for category in categories:\n",
        "    category_input_folder = os.path.join(input_folder, category)\n",
        "    category_output_folder = os.path.join(output_folder, category)\n",
        "    os.makedirs(category_output_folder, exist_ok=True)\n",
        "\n",
        "    images = os.listdir(category_input_folder)\n",
        "\n",
        "    for image_name in images:\n",
        "        image_path = os.path.join(category_input_folder, image_name)\n",
        "        output_image_path = os.path.join(category_output_folder, image_name)\n",
        "\n",
        "        if os.path.isfile(image_path):\n",
        "            # Baca gambar\n",
        "            img = cv2.imread(image_path)\n",
        "\n",
        "            # Normalisasi ukuran menjadi 224x224\n",
        "            img = cv2.resize(img, (224, 224))\n",
        "\n",
        "            # Simpan gambar yang sudah dinormalisasi\n",
        "            cv2.imwrite(output_image_path, img)"
      ],
      "metadata": {
        "id": "OpXSbA8NZyxn"
      },
      "execution_count": null,
      "outputs": []
    },
    {
      "cell_type": "code",
      "source": [
        "import os\n",
        "\n",
        "output_folder = \"/content/drive/MyDrive/Dataset224\"\n",
        "\n",
        "categories = [\"Normal\", \"Mass\", \"Nodule\", \"Pneumonia\", \"Tuberculosis\"]\n",
        "\n",
        "for category in categories:\n",
        "    category_folder = os.path.join(output_folder, category)\n",
        "    file_count = len(os.listdir(category_folder))\n",
        "    print(f\"Jumlah file pada folder {category}: {file_count}\")"
      ],
      "metadata": {
        "id": "KNicYR9r9KA_",
        "colab": {
          "base_uri": "https://localhost:8080/"
        },
        "outputId": "742e1d79-cd8e-4e4a-a0e8-f04621407ad6"
      },
      "execution_count": null,
      "outputs": [
        {
          "output_type": "stream",
          "name": "stdout",
          "text": [
            "Jumlah file pada folder Normal: 2000\n",
            "Jumlah file pada folder Mass: 2000\n",
            "Jumlah file pada folder Nodule: 2000\n",
            "Jumlah file pada folder Pneumonia: 2000\n",
            "Jumlah file pada folder Tuberculosis: 2000\n"
          ]
        }
      ]
    },
    {
      "cell_type": "markdown",
      "metadata": {
        "id": "X7o1OpRWmU_7"
      },
      "source": [
        "# ✈**SPLIT 90 TRAIN**\n"
      ]
    },
    {
      "cell_type": "markdown",
      "source": [
        "## **TRAIN 90 CLAHE**"
      ],
      "metadata": {
        "id": "JR0w_AkT4mIL"
      }
    },
    {
      "cell_type": "code",
      "source": [
        "import os\n",
        "import shutil\n",
        "import random\n",
        "\n",
        "# Tentukan path dataset\n",
        "dataset_path = \"/content/drive/MyDrive/Dataset224Clahe\"\n",
        "\n",
        "# Tentukan path output untuk menyimpan dataset terbagi\n",
        "output_path = \"/content/drive/MyDrive/DatasetSplit90Clahe\"\n",
        "\n",
        "# Buat direktori output jika belum ada\n",
        "os.makedirs(output_path, exist_ok=True)\n",
        "\n",
        "# Membaca nama file dari setiap kelas\n",
        "normal_files = os.listdir(os.path.join(dataset_path, \"Normal\"))\n",
        "pneumonia_files = os.listdir(os.path.join(dataset_path, \"Pneumonia\"))\n",
        "mass_files = os.listdir(os.path.join(dataset_path, \"Mass\"))\n",
        "nodule_files = os.listdir(os.path.join(dataset_path, \"Nodule\"))\n",
        "tuberculosis_files = os.listdir(os.path.join(dataset_path, \"Tuberculosis\"))\n",
        "\n",
        "# Menggabungkan semua kategori\n",
        "all_files = {\n",
        "    \"Normal\": normal_files,\n",
        "    \"Pneumonia\": pneumonia_files,\n",
        "    \"Mass\": mass_files,\n",
        "    \"Nodule\": nodule_files,\n",
        "    \"Tuberculosis\": tuberculosis_files\n",
        "}\n",
        "\n",
        "# Mengacak urutan file di setiap kategori\n",
        "for category in all_files:\n",
        "    random.shuffle(all_files[category])\n",
        "\n",
        "# Tentukan rasio pembagian dataset\n",
        "train_ratio = 0.9\n",
        "validation_ratio = 0.05\n",
        "test_ratio = 0.05\n",
        "\n",
        "# Memisahkan dataset menjadi bagian pelatihan, validasi, dan pengujian\n",
        "train_data = {}\n",
        "validation_data = {}\n",
        "test_data = {}\n",
        "\n",
        "for category, files in all_files.items():\n",
        "    total_files = len(files)\n",
        "    train_split = int(train_ratio * total_files)\n",
        "    validation_split = int(validation_ratio * total_files)\n",
        "\n",
        "    train_data[category] = files[:train_split]\n",
        "    validation_data[category] = files[train_split:train_split+validation_split]\n",
        "    test_data[category] = files[train_split+validation_split:]\n",
        "\n",
        "# Fungsi untuk memindahkan file ke direktori output\n",
        "def move_files(files, source_path, destination_path):\n",
        "    for file in files:\n",
        "        source_file = os.path.join(source_path, file)\n",
        "        destination_file = os.path.join(destination_path, file)\n",
        "        shutil.copyfile(source_file, destination_file)\n",
        "\n",
        "# Memindahkan file ke direktori output\n",
        "for category, files in train_data.items():\n",
        "    source_path = os.path.join(dataset_path, category)\n",
        "    destination_path = os.path.join(output_path, \"train\", category)\n",
        "    os.makedirs(destination_path, exist_ok=True)\n",
        "    move_files(files, source_path, destination_path)\n",
        "\n",
        "for category, files in validation_data.items():\n",
        "    source_path = os.path.join(dataset_path, category)\n",
        "    destination_path = os.path.join(output_path, \"validation\", category)\n",
        "    os.makedirs(destination_path, exist_ok=True)\n",
        "    move_files(files, source_path, destination_path)\n",
        "\n",
        "for category, files in test_data.items():\n",
        "    source_path = os.path.join(dataset_path, category)\n",
        "    destination_path = os.path.join(output_path, \"test\", category)\n",
        "    os.makedirs(destination_path, exist_ok=True)\n",
        "    move_files(files, source_path, destination_path)\n",
        "\n",
        "print(\"Split Data Telah Selesai!\")"
      ],
      "metadata": {
        "id": "HIS5pmZBMfB_"
      },
      "execution_count": null,
      "outputs": []
    },
    {
      "cell_type": "code",
      "source": [
        "import os\n",
        "\n",
        "train_folder = \"/content/drive/MyDrive/DatasetSplit90Clahe/train\"\n",
        "validation_folder = \"/content/drive/MyDrive/DatasetSplit90Clahe/validation\"\n",
        "test_folder = \"/content/drive/MyDrive/DatasetSplit90Clahe/test\"\n",
        "\n",
        "categories = [\"Mass\", \"Nodule\", \"Normal\", \"Pneumonia\", \"Tuberculosis\"]\n",
        "\n",
        "print(\"TRAIN\")\n",
        "for category in categories:\n",
        "    category_folder = os.path.join(train_folder, category)\n",
        "    file_count = len(os.listdir(category_folder))\n",
        "    print(f\"Jumlah file pada folder {category}: {file_count}\")\n",
        "print(\"VALIDATION\")\n",
        "for category in categories:\n",
        "    category_folder = os.path.join(validation_folder, category)\n",
        "    file_count = len(os.listdir(category_folder))\n",
        "    print(f\"Jumlah file pada folder {category}: {file_count}\")\n",
        "print(\"TEST\")\n",
        "for category in categories:\n",
        "    category_folder = os.path.join(test_folder, category)\n",
        "    file_count = len(os.listdir(category_folder))\n",
        "    print(f\"Jumlah file pada folder {category}: {file_count}\")"
      ],
      "metadata": {
        "colab": {
          "base_uri": "https://localhost:8080/"
        },
        "id": "1ZEifPgpNO6M",
        "outputId": "12cb2288-4018-4fc7-a1e5-fd5248a4c4d5"
      },
      "execution_count": null,
      "outputs": [
        {
          "output_type": "stream",
          "name": "stdout",
          "text": [
            "TRAIN\n",
            "Jumlah file pada folder Mass: 1845\n",
            "Jumlah file pada folder Nodule: 1800\n",
            "Jumlah file pada folder Normal: 1800\n",
            "Jumlah file pada folder Pneumonia: 1800\n",
            "Jumlah file pada folder Tuberculosis: 1800\n",
            "VALIDATION\n",
            "Jumlah file pada folder Mass: 102\n",
            "Jumlah file pada folder Nodule: 100\n",
            "Jumlah file pada folder Normal: 100\n",
            "Jumlah file pada folder Pneumonia: 100\n",
            "Jumlah file pada folder Tuberculosis: 100\n",
            "TEST\n",
            "Jumlah file pada folder Mass: 103\n",
            "Jumlah file pada folder Nodule: 100\n",
            "Jumlah file pada folder Normal: 100\n",
            "Jumlah file pada folder Pneumonia: 100\n",
            "Jumlah file pada folder Tuberculosis: 100\n"
          ]
        }
      ]
    },
    {
      "cell_type": "markdown",
      "source": [
        "## **TRAIN 90 TANPA CLAHE**"
      ],
      "metadata": {
        "id": "ZcowT6tM4yhT"
      }
    },
    {
      "cell_type": "code",
      "source": [
        "import os\n",
        "import shutil\n",
        "import random\n",
        "\n",
        "# Tentukan path dataset\n",
        "dataset_path = \"/content/drive/MyDrive/Dataset224\"\n",
        "\n",
        "# Tentukan path output untuk menyimpan dataset terbagi\n",
        "output_path = \"/content/drive/MyDrive/DatasetSplit90\"\n",
        "\n",
        "# Buat direktori output jika belum ada\n",
        "os.makedirs(output_path, exist_ok=True)\n",
        "\n",
        "# Membaca nama file dari setiap kelas\n",
        "normal_files = os.listdir(os.path.join(dataset_path, \"Normal\"))\n",
        "pneumonia_files = os.listdir(os.path.join(dataset_path, \"Pneumonia\"))\n",
        "mass_files = os.listdir(os.path.join(dataset_path, \"Mass\"))\n",
        "nodule_files = os.listdir(os.path.join(dataset_path, \"Nodule\"))\n",
        "tuberculosis_files = os.listdir(os.path.join(dataset_path, \"Tuberculosis\"))\n",
        "\n",
        "# Menggabungkan semua kategori\n",
        "all_files = {\n",
        "    \"Normal\": normal_files,\n",
        "    \"Pneumonia\": pneumonia_files,\n",
        "    \"Mass\": mass_files,\n",
        "    \"Nodule\": nodule_files,\n",
        "    \"Tuberculosis\": tuberculosis_files\n",
        "}\n",
        "\n",
        "# Mengacak urutan file di setiap kategori\n",
        "for category in all_files:\n",
        "    random.shuffle(all_files[category])\n",
        "\n",
        "# Tentukan rasio pembagian dataset\n",
        "train_ratio = 0.9\n",
        "validation_ratio = 0.05\n",
        "test_ratio = 0.05\n",
        "\n",
        "# Memisahkan dataset menjadi bagian pelatihan, validasi, dan pengujian\n",
        "train_data = {}\n",
        "validation_data = {}\n",
        "test_data = {}\n",
        "\n",
        "for category, files in all_files.items():\n",
        "    total_files = len(files)\n",
        "    train_split = int(train_ratio * total_files)\n",
        "    validation_split = int(validation_ratio * total_files)\n",
        "\n",
        "    train_data[category] = files[:train_split]\n",
        "    validation_data[category] = files[train_split:train_split+validation_split]\n",
        "    test_data[category] = files[train_split+validation_split:]\n",
        "\n",
        "# Fungsi untuk memindahkan file ke direktori output\n",
        "def move_files(files, source_path, destination_path):\n",
        "    for file in files:\n",
        "        source_file = os.path.join(source_path, file)\n",
        "        destination_file = os.path.join(destination_path, file)\n",
        "        shutil.copyfile(source_file, destination_file)\n",
        "\n",
        "# Memindahkan file ke direktori output\n",
        "for category, files in train_data.items():\n",
        "    source_path = os.path.join(dataset_path, category)\n",
        "    destination_path = os.path.join(output_path, \"train\", category)\n",
        "    os.makedirs(destination_path, exist_ok=True)\n",
        "    move_files(files, source_path, destination_path)\n",
        "\n",
        "for category, files in validation_data.items():\n",
        "    source_path = os.path.join(dataset_path, category)\n",
        "    destination_path = os.path.join(output_path, \"validation\", category)\n",
        "    os.makedirs(destination_path, exist_ok=True)\n",
        "    move_files(files, source_path, destination_path)\n",
        "\n",
        "for category, files in test_data.items():\n",
        "    source_path = os.path.join(dataset_path, category)\n",
        "    destination_path = os.path.join(output_path, \"test\", category)\n",
        "    os.makedirs(destination_path, exist_ok=True)\n",
        "    move_files(files, source_path, destination_path)\n",
        "\n",
        "print(\"Split Data Telah Selesai!\")"
      ],
      "metadata": {
        "id": "r1haTQ3W44yi",
        "colab": {
          "base_uri": "https://localhost:8080/"
        },
        "outputId": "be955e08-45d6-472f-a4a7-1db04051d8a4"
      },
      "execution_count": null,
      "outputs": [
        {
          "output_type": "stream",
          "name": "stdout",
          "text": [
            "Split Data Telah Selesai!\n"
          ]
        }
      ]
    },
    {
      "cell_type": "code",
      "source": [
        "import os\n",
        "\n",
        "train_folder = \"/content/drive/MyDrive/DatasetSplit90/train\"\n",
        "validation_folder = \"/content/drive/MyDrive/DatasetSplit90/validation\"\n",
        "test_folder = \"/content/drive/MyDrive/DatasetSplit90/test\"\n",
        "\n",
        "categories = [\"Mass\", \"Nodule\", \"Normal\", \"Pneumonia\", \"Tuberculosis\"]\n",
        "\n",
        "print(\"TRAIN\")\n",
        "for category in categories:\n",
        "    category_folder = os.path.join(train_folder, category)\n",
        "    file_count = len(os.listdir(category_folder))\n",
        "    print(f\"Jumlah file pada folder {category}: {file_count}\")\n",
        "print(\"VALIDATION\")\n",
        "for category in categories:\n",
        "    category_folder = os.path.join(validation_folder, category)\n",
        "    file_count = len(os.listdir(category_folder))\n",
        "    print(f\"Jumlah file pada folder {category}: {file_count}\")\n",
        "print(\"TEST\")\n",
        "for category in categories:\n",
        "    category_folder = os.path.join(test_folder, category)\n",
        "    file_count = len(os.listdir(category_folder))\n",
        "    print(f\"Jumlah file pada folder {category}: {file_count}\")"
      ],
      "metadata": {
        "id": "ZX9sk3B947GQ",
        "colab": {
          "base_uri": "https://localhost:8080/"
        },
        "outputId": "72fc5682-c754-4316-eafa-4ede88655fc0"
      },
      "execution_count": null,
      "outputs": [
        {
          "output_type": "stream",
          "name": "stdout",
          "text": [
            "TRAIN\n",
            "Jumlah file pada folder Mass: 1800\n",
            "Jumlah file pada folder Nodule: 1800\n",
            "Jumlah file pada folder Normal: 1800\n",
            "Jumlah file pada folder Pneumonia: 1800\n",
            "Jumlah file pada folder Tuberculosis: 1800\n",
            "VALIDATION\n",
            "Jumlah file pada folder Mass: 100\n",
            "Jumlah file pada folder Nodule: 100\n",
            "Jumlah file pada folder Normal: 100\n",
            "Jumlah file pada folder Pneumonia: 100\n",
            "Jumlah file pada folder Tuberculosis: 100\n",
            "TEST\n",
            "Jumlah file pada folder Mass: 100\n",
            "Jumlah file pada folder Nodule: 100\n",
            "Jumlah file pada folder Normal: 100\n",
            "Jumlah file pada folder Pneumonia: 100\n",
            "Jumlah file pada folder Tuberculosis: 100\n"
          ]
        }
      ]
    },
    {
      "cell_type": "markdown",
      "source": [
        "# ✈**SPLIT 80 TRAIN**"
      ],
      "metadata": {
        "id": "7gVLOvj6IrBh"
      }
    },
    {
      "cell_type": "markdown",
      "source": [
        "## **TRAIN 80 CLAHE**"
      ],
      "metadata": {
        "id": "S_eEqS3OQ7vX"
      }
    },
    {
      "cell_type": "code",
      "source": [
        "import os\n",
        "import shutil\n",
        "import random\n",
        "\n",
        "# Tentukan path dataset\n",
        "dataset_path = \"/content/drive/MyDrive/Dataset224Clahe\"\n",
        "\n",
        "# Tentukan path output untuk menyimpan dataset terbagi\n",
        "output_path = \"/content/drive/MyDrive/DatasetSplit80Clahe\"\n",
        "\n",
        "# Buat direktori output jika belum ada\n",
        "os.makedirs(output_path, exist_ok=True)\n",
        "\n",
        "# Membaca nama file dari setiap kelas\n",
        "normal_files = os.listdir(os.path.join(dataset_path, \"Normal\"))\n",
        "pneumonia_files = os.listdir(os.path.join(dataset_path, \"Pneumonia\"))\n",
        "mass_files = os.listdir(os.path.join(dataset_path, \"Mass\"))\n",
        "nodule_files = os.listdir(os.path.join(dataset_path, \"Nodule\"))\n",
        "tuberculosis_files = os.listdir(os.path.join(dataset_path, \"Tuberculosis\"))\n",
        "\n",
        "# Menggabungkan semua kategori\n",
        "all_files = {\n",
        "    \"Normal\": normal_files,\n",
        "    \"Pneumonia\": pneumonia_files,\n",
        "    \"Mass\": mass_files,\n",
        "    \"Nodule\": nodule_files,\n",
        "    \"Tuberculosis\": tuberculosis_files\n",
        "}\n",
        "\n",
        "# Mengacak urutan file di setiap kategori\n",
        "for category in all_files:\n",
        "    random.shuffle(all_files[category])\n",
        "\n",
        "# Tentukan rasio pembagian dataset\n",
        "train_ratio = 0.8\n",
        "validation_ratio = 0.1\n",
        "test_ratio = 0.1\n",
        "\n",
        "# Memisahkan dataset menjadi bagian pelatihan, validasi, dan pengujian\n",
        "train_data = {}\n",
        "validation_data = {}\n",
        "test_data = {}\n",
        "\n",
        "for category, files in all_files.items():\n",
        "    total_files = len(files)\n",
        "    train_split = int(train_ratio * total_files)\n",
        "    validation_split = int(validation_ratio * total_files)\n",
        "\n",
        "    train_data[category] = files[:train_split]\n",
        "    validation_data[category] = files[train_split:train_split+validation_split]\n",
        "    test_data[category] = files[train_split+validation_split:]\n",
        "\n",
        "# Fungsi untuk memindahkan file ke direktori output\n",
        "def move_files(files, source_path, destination_path):\n",
        "    for file in files:\n",
        "        source_file = os.path.join(source_path, file)\n",
        "        destination_file = os.path.join(destination_path, file)\n",
        "        shutil.copyfile(source_file, destination_file)\n",
        "\n",
        "# Memindahkan file ke direktori output\n",
        "for category, files in train_data.items():\n",
        "    source_path = os.path.join(dataset_path, category)\n",
        "    destination_path = os.path.join(output_path, \"train\", category)\n",
        "    os.makedirs(destination_path, exist_ok=True)\n",
        "    move_files(files, source_path, destination_path)\n",
        "\n",
        "for category, files in validation_data.items():\n",
        "    source_path = os.path.join(dataset_path, category)\n",
        "    destination_path = os.path.join(output_path, \"validation\", category)\n",
        "    os.makedirs(destination_path, exist_ok=True)\n",
        "    move_files(files, source_path, destination_path)\n",
        "\n",
        "for category, files in test_data.items():\n",
        "    source_path = os.path.join(dataset_path, category)\n",
        "    destination_path = os.path.join(output_path, \"test\", category)\n",
        "    os.makedirs(destination_path, exist_ok=True)\n",
        "    move_files(files, source_path, destination_path)\n",
        "\n",
        "print(\"Split Data Telah Selesai!\")"
      ],
      "metadata": {
        "id": "T2wkMxiiI48q"
      },
      "execution_count": null,
      "outputs": []
    },
    {
      "cell_type": "code",
      "source": [
        "import os\n",
        "\n",
        "train_folder = \"/content/drive/MyDrive/DatasetSplit80Clahe/train\"\n",
        "validation_folder = \"/content/drive/MyDrive/DatasetSplit80Clahe/validation\"\n",
        "test_folder = \"/content/drive/MyDrive/DatasetSplit80Clahe/test\"\n",
        "\n",
        "categories = [\"Mass\", \"Nodule\", \"Normal\", \"Pneumonia\", \"Tuberculosis\"]\n",
        "\n",
        "print(\"TRAIN\")\n",
        "for category in categories:\n",
        "    category_folder = os.path.join(train_folder, category)\n",
        "    file_count = len(os.listdir(category_folder))\n",
        "    print(f\"Jumlah file pada folder {category}: {file_count}\")\n",
        "print(\"VALIDATION\")\n",
        "for category in categories:\n",
        "    category_folder = os.path.join(validation_folder, category)\n",
        "    file_count = len(os.listdir(category_folder))\n",
        "    print(f\"Jumlah file pada folder {category}: {file_count}\")\n",
        "print(\"TEST\")\n",
        "for category in categories:\n",
        "    category_folder = os.path.join(test_folder, category)\n",
        "    file_count = len(os.listdir(category_folder))\n",
        "    print(f\"Jumlah file pada folder {category}: {file_count}\")"
      ],
      "metadata": {
        "id": "2yUMDGEUI_vi"
      },
      "execution_count": null,
      "outputs": []
    },
    {
      "cell_type": "markdown",
      "source": [
        "## **TRAIN 80 TANPA CLAHE**"
      ],
      "metadata": {
        "id": "58RNclSyRDNn"
      }
    },
    {
      "cell_type": "code",
      "source": [
        "import os\n",
        "import shutil\n",
        "import random\n",
        "\n",
        "# Tentukan path dataset\n",
        "dataset_path = \"/content/drive/MyDrive/Dataset224\"\n",
        "\n",
        "# Tentukan path output untuk menyimpan dataset terbagi\n",
        "output_path = \"/content/drive/MyDrive/DatasetSplit80\"\n",
        "\n",
        "# Buat direktori output jika belum ada\n",
        "os.makedirs(output_path, exist_ok=True)\n",
        "\n",
        "# Membaca nama file dari setiap kelas\n",
        "normal_files = os.listdir(os.path.join(dataset_path, \"Normal\"))\n",
        "pneumonia_files = os.listdir(os.path.join(dataset_path, \"Pneumonia\"))\n",
        "mass_files = os.listdir(os.path.join(dataset_path, \"Mass\"))\n",
        "nodule_files = os.listdir(os.path.join(dataset_path, \"Nodule\"))\n",
        "tuberculosis_files = os.listdir(os.path.join(dataset_path, \"Tuberculosis\"))\n",
        "\n",
        "# Menggabungkan semua kategori\n",
        "all_files = {\n",
        "    \"Normal\": normal_files,\n",
        "    \"Pneumonia\": pneumonia_files,\n",
        "    \"Mass\": mass_files,\n",
        "    \"Nodule\": nodule_files,\n",
        "    \"Tuberculosis\": tuberculosis_files\n",
        "}\n",
        "\n",
        "# Mengacak urutan file di setiap kategori\n",
        "for category in all_files:\n",
        "    random.shuffle(all_files[category])\n",
        "\n",
        "# Tentukan rasio pembagian dataset\n",
        "train_ratio = 0.8\n",
        "validation_ratio = 0.1\n",
        "test_ratio = 0.1\n",
        "\n",
        "# Memisahkan dataset menjadi bagian pelatihan, validasi, dan pengujian\n",
        "train_data = {}\n",
        "validation_data = {}\n",
        "test_data = {}\n",
        "\n",
        "for category, files in all_files.items():\n",
        "    total_files = len(files)\n",
        "    train_split = int(train_ratio * total_files)\n",
        "    validation_split = int(validation_ratio * total_files)\n",
        "\n",
        "    train_data[category] = files[:train_split]\n",
        "    validation_data[category] = files[train_split:train_split+validation_split]\n",
        "    test_data[category] = files[train_split+validation_split:]\n",
        "\n",
        "# Fungsi untuk memindahkan file ke direktori output\n",
        "def move_files(files, source_path, destination_path):\n",
        "    for file in files:\n",
        "        source_file = os.path.join(source_path, file)\n",
        "        destination_file = os.path.join(destination_path, file)\n",
        "        shutil.copyfile(source_file, destination_file)\n",
        "\n",
        "# Memindahkan file ke direktori output\n",
        "for category, files in train_data.items():\n",
        "    source_path = os.path.join(dataset_path, category)\n",
        "    destination_path = os.path.join(output_path, \"train\", category)\n",
        "    os.makedirs(destination_path, exist_ok=True)\n",
        "    move_files(files, source_path, destination_path)\n",
        "\n",
        "for category, files in validation_data.items():\n",
        "    source_path = os.path.join(dataset_path, category)\n",
        "    destination_path = os.path.join(output_path, \"validation\", category)\n",
        "    os.makedirs(destination_path, exist_ok=True)\n",
        "    move_files(files, source_path, destination_path)\n",
        "\n",
        "for category, files in test_data.items():\n",
        "    source_path = os.path.join(dataset_path, category)\n",
        "    destination_path = os.path.join(output_path, \"test\", category)\n",
        "    os.makedirs(destination_path, exist_ok=True)\n",
        "    move_files(files, source_path, destination_path)\n",
        "\n",
        "print(\"Split Data Telah Selesai!\")"
      ],
      "metadata": {
        "id": "CBK8bSUERJ0Y",
        "colab": {
          "base_uri": "https://localhost:8080/"
        },
        "outputId": "f36cab5e-8e18-4918-d8d4-bb75803851f2"
      },
      "execution_count": null,
      "outputs": [
        {
          "output_type": "stream",
          "name": "stdout",
          "text": [
            "Split Data Telah Selesai!\n"
          ]
        }
      ]
    },
    {
      "cell_type": "code",
      "source": [
        "import os\n",
        "\n",
        "train_folder = \"/content/drive/MyDrive/DatasetSplit80/train\"\n",
        "validation_folder = \"/content/drive/MyDrive/DatasetSplit80/validation\"\n",
        "test_folder = \"/content/drive/MyDrive/DatasetSplit80/test\"\n",
        "\n",
        "categories = [\"Mass\", \"Nodule\", \"Normal\", \"Pneumonia\", \"Tuberculosis\"]\n",
        "\n",
        "print(\"TRAIN\")\n",
        "for category in categories:\n",
        "    category_folder = os.path.join(train_folder, category)\n",
        "    file_count = len(os.listdir(category_folder))\n",
        "    print(f\"Jumlah file pada folder {category}: {file_count}\")\n",
        "print(\"VALIDATION\")\n",
        "for category in categories:\n",
        "    category_folder = os.path.join(validation_folder, category)\n",
        "    file_count = len(os.listdir(category_folder))\n",
        "    print(f\"Jumlah file pada folder {category}: {file_count}\")\n",
        "print(\"TEST\")\n",
        "for category in categories:\n",
        "    category_folder = os.path.join(test_folder, category)\n",
        "    file_count = len(os.listdir(category_folder))\n",
        "    print(f\"Jumlah file pada folder {category}: {file_count}\")"
      ],
      "metadata": {
        "id": "M4IwMiabRK0_",
        "colab": {
          "base_uri": "https://localhost:8080/"
        },
        "outputId": "318fbc9d-55d3-4bf1-e3b1-0998b48e538a"
      },
      "execution_count": null,
      "outputs": [
        {
          "output_type": "stream",
          "name": "stdout",
          "text": [
            "TRAIN\n",
            "Jumlah file pada folder Mass: 1600\n",
            "Jumlah file pada folder Nodule: 1600\n",
            "Jumlah file pada folder Normal: 1600\n",
            "Jumlah file pada folder Pneumonia: 1600\n",
            "Jumlah file pada folder Tuberculosis: 1600\n",
            "VALIDATION\n",
            "Jumlah file pada folder Mass: 200\n",
            "Jumlah file pada folder Nodule: 200\n",
            "Jumlah file pada folder Normal: 200\n",
            "Jumlah file pada folder Pneumonia: 200\n",
            "Jumlah file pada folder Tuberculosis: 200\n",
            "TEST\n",
            "Jumlah file pada folder Mass: 200\n",
            "Jumlah file pada folder Nodule: 200\n",
            "Jumlah file pada folder Normal: 200\n",
            "Jumlah file pada folder Pneumonia: 200\n",
            "Jumlah file pada folder Tuberculosis: 200\n"
          ]
        }
      ]
    },
    {
      "cell_type": "code",
      "source": [],
      "metadata": {
        "id": "B_YHndXjpzcZ"
      },
      "execution_count": null,
      "outputs": []
    }
  ],
  "metadata": {
    "accelerator": "GPU",
    "colab": {
      "collapsed_sections": [
        "etcOzeUK4KC6",
        "RWVIe3JUZxmS",
        "JR0w_AkT4mIL",
        "ZcowT6tM4yhT",
        "S_eEqS3OQ7vX",
        "58RNclSyRDNn"
      ],
      "provenance": [],
      "gpuType": "T4"
    },
    "kernelspec": {
      "display_name": "Python 3",
      "name": "python3"
    },
    "language_info": {
      "name": "python"
    }
  },
  "nbformat": 4,
  "nbformat_minor": 0
}