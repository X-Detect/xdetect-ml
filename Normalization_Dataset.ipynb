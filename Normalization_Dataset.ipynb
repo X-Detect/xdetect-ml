{
  "cells": [
    {
      "cell_type": "code",
      "execution_count": 1,
      "metadata": {
        "colab": {
          "base_uri": "https://localhost:8080/"
        },
        "id": "rgn61PTYlmip",
        "outputId": "bfe98558-defd-49b8-8a9b-8e713d4a4c5e"
      },
      "outputs": [
        {
          "output_type": "stream",
          "name": "stdout",
          "text": [
            "Mounted at /content/drive\n"
          ]
        }
      ],
      "source": [
        "from google.colab import drive\n",
        "drive.mount('/content/drive')"
      ]
    },
    {
      "cell_type": "code",
      "execution_count": 2,
      "metadata": {
        "id": "nrkTHN5IldHF"
      },
      "outputs": [],
      "source": [
        "import os\n",
        "import cv2\n",
        "\n",
        "input_folder = \"/content/drive/MyDrive/Capstone Project/Dataset\"\n",
        "output_folder = \"/content/drive/MyDrive/Capstone Project/Dataset 224x224\"\n",
        "\n",
        "# Membuat folder output jika belum ada\n",
        "os.makedirs(output_folder, exist_ok=True)\n",
        "\n",
        "categories = [\"Normal\", \"Mass\", \"Nodule\", \"Pneumonia\", \"Tuberculosis\"]\n",
        "\n",
        "for category in categories:\n",
        "    category_input_folder = os.path.join(input_folder, category)\n",
        "    category_output_folder = os.path.join(output_folder, category)\n",
        "    os.makedirs(category_output_folder, exist_ok=True)\n",
        "\n",
        "    images = os.listdir(category_input_folder)\n",
        "\n",
        "    for image_name in images:\n",
        "        image_path = os.path.join(category_input_folder, image_name)\n",
        "        output_image_path = os.path.join(category_output_folder, image_name)\n",
        "\n",
        "        if os.path.isfile(image_path):\n",
        "            # Baca gambar\n",
        "            img = cv2.imread(image_path)\n",
        "\n",
        "            # Normalisasi ukuran menjadi 224x224\n",
        "            img = cv2.resize(img, (224, 224))\n",
        "\n",
        "            # Lakukan penghapusan noise atau pemrosesan lainnya\n",
        "            # Misalnya, menggunakan filter Gaussian untuk menghaluskan gambar\n",
        "            \n",
        "            # Gaussian\n",
        "            # img = cv2.GaussianBlur(img, (5, 5), 0)\n",
        "\n",
        "            # Ubah image ke grayscale\n",
        "            img_gray = cv2.cvtColor(img, cv2.COLOR_BGR2GRAY)\n",
        "            # Setting CLAHE\n",
        "            clahe = cv2.createCLAHE(clipLimit=2.0, tileGridSize=(8,8))\n",
        "            # Terapkan CLAHE pada gambar\n",
        "            img_clahe = clahe.apply(img_gray)\n",
        "\n",
        "            # Simpan gambar yang sudah dinormalisasi\n",
        "            cv2.imwrite(output_image_path, img_clahe)"
      ]
    },
    {
      "cell_type": "code",
      "execution_count": 4,
      "metadata": {
        "colab": {
          "base_uri": "https://localhost:8080/"
        },
        "id": "KL-TzihPRsMG",
        "outputId": "518a00bc-c41d-4df9-8c56-8b830ae03f86"
      },
      "outputs": [
        {
          "output_type": "stream",
          "name": "stdout",
          "text": [
            "Jumlah file pada folder Normal: 2000\n",
            "Jumlah file pada folder Mass: 2000\n",
            "Jumlah file pada folder Nodule: 2000\n",
            "Jumlah file pada folder Pneumonia: 2000\n",
            "Jumlah file pada folder Tuberculosis: 2000\n"
          ]
        }
      ],
      "source": [
        "output_folder = \"/content/drive/MyDrive/Capstone Project/Dataset 224x224\"\n",
        "\n",
        "categories = [\"Normal\", \"Mass\", \"Nodule\", \"Pneumonia\", \"Tuberculosis\"]\n",
        "\n",
        "for category in categories:\n",
        "    category_folder = os.path.join(output_folder, category)\n",
        "    file_count = len(os.listdir(category_folder))\n",
        "    print(f\"Jumlah file pada folder {category}: {file_count}\")"
      ]
    },
    {
      "cell_type": "code",
      "execution_count": null,
      "metadata": {
        "id": "vMk_jrpcVxKT"
      },
      "outputs": [],
      "source": []
    }
  ],
  "metadata": {
    "colab": {
      "provenance": [],
      "gpuType": "T4"
    },
    "kernelspec": {
      "display_name": "Python 3",
      "name": "python3"
    },
    "language_info": {
      "name": "python"
    },
    "gpuClass": "standard"
  },
  "nbformat": 4,
  "nbformat_minor": 0
}